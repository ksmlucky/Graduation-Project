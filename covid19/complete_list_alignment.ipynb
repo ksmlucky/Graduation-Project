{
 "cells": [
  {
   "cell_type": "code",
   "execution_count": null,
   "metadata": {},
   "outputs": [
    {
     "name": "stdout",
     "output_type": "stream",
     "text": [
      "number : 2\n",
      "name : NC_004718\n",
      "name : KF530114\n",
      "## processing: NC_004718\n",
      "## processing: KF530114\n",
      "clustalw2 -infile=covid.fasta\n"
     ]
    }
   ],
   "source": [
    "import os\n",
    "from Bio.Align.Applications import ClustalwCommandline\n",
    "from Bio import Entrez \n",
    "from Bio import SeqIO \n",
    "from Bio.Align.Applications import MuscleCommandline\n",
    "from Bio import Phylo\n",
    "\n",
    "import pandas as pd \n",
    "\n",
    "def fetch_record(genbank_id): \n",
    "    Entrez.email = \"dnjs0148@naver.com\" \n",
    "    handle = Entrez.efetch(db=\"nucleotide\", id=genbank_id, rettype=\"gb\", retmode=\"xml\") \n",
    "    records = Entrez.read(handle) \n",
    "    return records \n",
    "\n",
    "def get_sequence(records): \n",
    "    return records[0][\"GBSeq_sequence\"] \n",
    "\n",
    "#=========================== covid.fasta 파일에 바이러스 염기서열을 모두 써준다. =============================\n",
    "def write_sequence(genbank_id, records): \n",
    "    print(\"## processing: \"+genbank_id) \n",
    "    record_id = records[0][\"GBSeq_accession-version\"] \n",
    "    record_desc = records[0][\"GBSeq_definition\"] \n",
    "    record_seq = records[0][\"GBSeq_sequence\"] \n",
    "    \n",
    "    with open(\"covid.fasta\",'a') as fw: \n",
    "        fw.write(\">\"+record_id+\" \"+record_desc+\"\\n\") \n",
    "        fw.write(record_seq+\"\\n\") \n",
    "        \n",
    "def read_table(file): \n",
    "    df = pd.read_csv(file, sep=\"\\t\") \n",
    "    return df \n",
    "\n",
    "#============================ number만큼 genbank_id를 입력하고 저장한다. ========================\n",
    "f = open(\"covidlist.txt\", 'a')\n",
    "f.write(\"GenBank\"+\"\\t\"+\"RefSeq\"+\"\\t\"+\"Gene Region\"+\"\\n\")\n",
    "\n",
    "a = int(input('number : '))\n",
    "genbank_id = []\n",
    "for b in range(0, a):\n",
    "    genbank_id.append(input('name : '))\n",
    "    \n",
    "for b in range(0, a):\n",
    "    f.write(genbank_id[b]+\"\\t\"+\"\\t\"+\"complete\"+\"\\n\")\n",
    "\n",
    "f.close()\n",
    "\n",
    "#========== txt파일내에 있는 genbank_id에 해당하는 유전자의 염기서열을 covid.fasta 파일에  작성한다. ===========\n",
    "file = \"covidlist.txt\" \n",
    "df = read_table(file) \n",
    "complete_df = df[df[\"Gene Region\"]==\"complete\"] \n",
    "genbank_id_list = complete_df[\"GenBank\"] \n",
    "#genbank_id_list = complete_df[\"GenBank\"] \n",
    "for genbank_id in genbank_id_list: \n",
    "    records = fetch_record(genbank_id) \n",
    "    write_sequence(genbank_id, records)\n",
    "\n",
    "cline = ClustalwCommandline(\"clustalw2\", infile=\"covid.fasta\")\n",
    "print(cline)\n",
    "\n",
    "# clustalw_exe = r\"C:\\ProgramData\\Microsoft\\Windows\\Start Menu\\Programs\\ClustalW2\"                                          \n",
    "clustalw_exe = r\"C:\\Program Files (x86)\\ClustalW2\\clustalw2.exe\"\n",
    "clustalw_cline = ClustalwCommandline(clustalw_exe, infile=\"covid.fasta\")\n",
    "assert os.path.isfile(clustalw_exe), \"Clustal W executable missing\"\n",
    "\n",
    "stdout, stderr = clustalw_cline()\n",
    "\n",
    "f = open('covid.aln', 'r')\n",
    "while True:\n",
    "    line = f.readline()\n",
    "    if not line: break\n",
    "    print(line)\n",
    "\n",
    "tree = Phylo.read(\"covid.dnd\", \"newick\")\n",
    "Phylo.draw_ascii(tree)"
   ]
  },
  {
   "cell_type": "code",
   "execution_count": null,
   "metadata": {},
   "outputs": [],
   "source": []
  }
 ],
 "metadata": {
  "kernelspec": {
   "display_name": "Python 3",
   "language": "python",
   "name": "python3"
  },
  "language_info": {
   "codemirror_mode": {
    "name": "ipython",
    "version": 3
   },
   "file_extension": ".py",
   "mimetype": "text/x-python",
   "name": "python",
   "nbconvert_exporter": "python",
   "pygments_lexer": "ipython3",
   "version": "3.8.3"
  }
 },
 "nbformat": 4,
 "nbformat_minor": 4
}
