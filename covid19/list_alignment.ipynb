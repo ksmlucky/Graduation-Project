{
 "cells": [
  {
   "cell_type": "code",
   "execution_count": 2,
   "metadata": {},
   "outputs": [
    {
     "name": "stdout",
     "output_type": "stream",
     "text": [
      "number : 2\n",
      "name : NC_045512\n",
      "name : NC_004718\n",
      "## processing: NC_045512\n",
      "## processing: NC_004718\n",
      "C:\\Users\\조형민\\graduationProject\\covid19\\muscle3.8.31_i86win32 -in covid.fasta -out covid.aln -clw\n"
     ]
    }
   ],
   "source": [
    "from Bio import Entrez \n",
    "from Bio import SeqIO \n",
    "from Bio.Align.Applications import MuscleCommandline\n",
    "\n",
    "import pandas as pd \n",
    "\n",
    "def fetch_record(genbank_id): \n",
    "    Entrez.email = \"dnjs0148@naver.com\" \n",
    "    handle = Entrez.efetch(db=\"nucleotide\", id=genbank_id, rettype=\"gb\", retmode=\"xml\") \n",
    "    records = Entrez.read(handle) \n",
    "    return records \n",
    "\n",
    "def get_sequence(records): \n",
    "    return records[0][\"GBSeq_sequence\"] \n",
    "\n",
    "def write_sequence(genbank_id, records): \n",
    "    print(\"## processing: \"+genbank_id) \n",
    "    record_id = records[0][\"GBSeq_accession-version\"] \n",
    "    record_desc = records[0][\"GBSeq_definition\"] \n",
    "    record_seq = records[0][\"GBSeq_sequence\"] \n",
    "    with open(\"covid.fasta\",'a') as fw: \n",
    "        fw.write(\">\"+record_id+\" \"+record_desc+\"\\n\") \n",
    "        fw.write(record_seq+\"\\n\") \n",
    "        \n",
    "def read_table(file): \n",
    "    df = pd.read_csv(file, sep=\"\\t\") \n",
    "    return df \n",
    "\n",
    "f = open(\"covidlist.txt\", 'a')\n",
    "f.write(\"GenBank\"+\"\\t\"+\"RefSeq\"+\"\\t\"+\"Gene Region\"+\"\\n\")\n",
    "\n",
    "a = int(input('number : '))\n",
    "genbank_id = []\n",
    "for b in range(0, a):\n",
    "    genbank_id.append(input('name : '))\n",
    "    \n",
    "for b in range(0, a):\n",
    "    f.write(genbank_id[b]+\"\\t\"+\"\\t\"+\"complete\"+\"\\n\")\n",
    "\n",
    "f.close()\n",
    "\n",
    "file = \"covidlist.txt\" \n",
    "df = read_table(file) \n",
    "complete_df = df[df[\"Gene Region\"]==\"complete\"] \n",
    "genbank_id_list = complete_df[\"GenBank\"] \n",
    "\n",
    "genbank_id_list = complete_df[\"GenBank\"] \n",
    "for genbank_id in genbank_id_list: \n",
    "    records = fetch_record(genbank_id) \n",
    "    write_sequence(genbank_id, records)\n",
    "    \n",
    "muscle_exe = r\"C:\\Users\\조형민\\graduationProject\\covid19\\muscle3.8.31_i86win32\"\n",
    "\n",
    "cmd_line = MuscleCommandline(muscle_exe, \\\n",
    "                             input=\"covid.fasta\", \\\n",
    "                             out=\"covid.aln\", \\\n",
    "                             clw=\" \")\n",
    "\n",
    "print(cmd_line)\n",
    "stdout, stderr = cmd_line()"
   ]
  },
  {
   "cell_type": "code",
   "execution_count": 3,
   "metadata": {},
   "outputs": [
    {
     "name": "stdout",
     "output_type": "stream",
     "text": [
      "C:\\Users\\조형민\\graduationProject\\covid19\\muscle3.8.31_i86win32 -in covid.fasta -out covid.afa -clw\n"
     ]
    }
   ],
   "source": [
    "cmd_line2 = MuscleCommandline(muscle_exe, \\\n",
    "                             input=\"covid.fasta\", \\\n",
    "                             out=\"covid.afa\", \\\n",
    "                             clw=\" \")\n",
    "\n",
    "print(cmd_line2)\n",
    "stdout, stderr = cmd_line2()"
   ]
  },
  {
   "cell_type": "code",
   "execution_count": 4,
   "metadata": {},
   "outputs": [
    {
     "name": "stdout",
     "output_type": "stream",
     "text": [
      "C:\\Users\\조형민\\graduationProject\\covid19\\muscle3.8.31_i86win32 -in covid.afa -out covid.phy -clw\n"
     ]
    },
    {
     "ename": "ApplicationError",
     "evalue": "Non-zero return code 2 from 'C:\\\\Users\\\\조형민\\\\graduationProject\\\\covid19\\\\muscle3.8.31_i86win32 -in covid.afa -out covid.phy -clw', message 'MUSCLE v3.8.31 by Robert C. Edgar'",
     "output_type": "error",
     "traceback": [
      "\u001b[1;31m---------------------------------------------------------------------------\u001b[0m",
      "\u001b[1;31mApplicationError\u001b[0m                          Traceback (most recent call last)",
      "\u001b[1;32m<ipython-input-4-475429c0f867>\u001b[0m in \u001b[0;36m<module>\u001b[1;34m\u001b[0m\n\u001b[0;32m      5\u001b[0m \u001b[1;33m\u001b[0m\u001b[0m\n\u001b[0;32m      6\u001b[0m \u001b[0mprint\u001b[0m\u001b[1;33m(\u001b[0m\u001b[0mcmd_line3\u001b[0m\u001b[1;33m)\u001b[0m\u001b[1;33m\u001b[0m\u001b[1;33m\u001b[0m\u001b[0m\n\u001b[1;32m----> 7\u001b[1;33m \u001b[0mstdout\u001b[0m\u001b[1;33m,\u001b[0m \u001b[0mstderr\u001b[0m \u001b[1;33m=\u001b[0m \u001b[0mcmd_line3\u001b[0m\u001b[1;33m(\u001b[0m\u001b[1;33m)\u001b[0m\u001b[1;33m\u001b[0m\u001b[1;33m\u001b[0m\u001b[0m\n\u001b[0m",
      "\u001b[1;32mC:\\anaconda3\\lib\\site-packages\\Bio\\Application\\__init__.py\u001b[0m in \u001b[0;36m__call__\u001b[1;34m(self, stdin, stdout, stderr, cwd, env)\u001b[0m\n\u001b[0;32m    567\u001b[0m \u001b[1;33m\u001b[0m\u001b[0m\n\u001b[0;32m    568\u001b[0m         \u001b[1;32mif\u001b[0m \u001b[0mreturn_code\u001b[0m\u001b[1;33m:\u001b[0m\u001b[1;33m\u001b[0m\u001b[1;33m\u001b[0m\u001b[0m\n\u001b[1;32m--> 569\u001b[1;33m             \u001b[1;32mraise\u001b[0m \u001b[0mApplicationError\u001b[0m\u001b[1;33m(\u001b[0m\u001b[0mreturn_code\u001b[0m\u001b[1;33m,\u001b[0m \u001b[0mstr\u001b[0m\u001b[1;33m(\u001b[0m\u001b[0mself\u001b[0m\u001b[1;33m)\u001b[0m\u001b[1;33m,\u001b[0m \u001b[0mstdout_str\u001b[0m\u001b[1;33m,\u001b[0m \u001b[0mstderr_str\u001b[0m\u001b[1;33m)\u001b[0m\u001b[1;33m\u001b[0m\u001b[1;33m\u001b[0m\u001b[0m\n\u001b[0m\u001b[0;32m    570\u001b[0m         \u001b[1;32mreturn\u001b[0m \u001b[0mstdout_str\u001b[0m\u001b[1;33m,\u001b[0m \u001b[0mstderr_str\u001b[0m\u001b[1;33m\u001b[0m\u001b[1;33m\u001b[0m\u001b[0m\n\u001b[0;32m    571\u001b[0m \u001b[1;33m\u001b[0m\u001b[0m\n",
      "\u001b[1;31mApplicationError\u001b[0m: Non-zero return code 2 from 'C:\\\\Users\\\\조형민\\\\graduationProject\\\\covid19\\\\muscle3.8.31_i86win32 -in covid.afa -out covid.phy -clw', message 'MUSCLE v3.8.31 by Robert C. Edgar'"
     ]
    }
   ],
   "source": [
    "cmd_line3 = MuscleCommandline(muscle_exe, \\\n",
    "                             input=\"covid.afa\", \\\n",
    "                             out=\"covid.phy\", \\\n",
    "                             clw=\" \")\n",
    "\n",
    "print(cmd_line3)\n",
    "stdout, stderr = cmd_line3()"
   ]
  },
  {
   "cell_type": "code",
   "execution_count": null,
   "metadata": {},
   "outputs": [],
   "source": []
  }
 ],
 "metadata": {
  "kernelspec": {
   "display_name": "Python 3",
   "language": "python",
   "name": "python3"
  },
  "language_info": {
   "codemirror_mode": {
    "name": "ipython",
    "version": 3
   },
   "file_extension": ".py",
   "mimetype": "text/x-python",
   "name": "python",
   "nbconvert_exporter": "python",
   "pygments_lexer": "ipython3",
   "version": "3.8.5"
  }
 },
 "nbformat": 4,
 "nbformat_minor": 4
}
